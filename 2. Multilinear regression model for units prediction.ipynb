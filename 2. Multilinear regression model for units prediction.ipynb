{
 "cells": [
  {
   "cell_type": "code",
   "execution_count": 1,
   "id": "7895217e",
   "metadata": {},
   "outputs": [],
   "source": [
    "# data wrangling\n",
    "import numpy as np\n",
    "import pandas as pd\n",
    "\n",
    "# visualization\n",
    "import matplotlib.pyplot as plt\n",
    "import seaborn as sns"
   ]
  },
  {
   "cell_type": "markdown",
   "id": "568e720b",
   "metadata": {},
   "source": [
    "We import the data frame obtained in preprocessing."
   ]
  },
  {
   "cell_type": "code",
   "execution_count": 2,
   "id": "d933ae0c",
   "metadata": {},
   "outputs": [],
   "source": [
    "df= pd.read_csv(\"data/price-units-data.csv\")"
   ]
  },
  {
   "cell_type": "markdown",
   "id": "7f8252db",
   "metadata": {},
   "source": [
    "### Linear regression with all products"
   ]
  },
  {
   "cell_type": "code",
   "execution_count": 3,
   "id": "e79849f6",
   "metadata": {},
   "outputs": [],
   "source": [
    "from sklearn.model_selection import train_test_split\n",
    "\n",
    "X = df['price'].to_numpy()\n",
    "y = df['units'].to_numpy()"
   ]
  },
  {
   "cell_type": "code",
   "execution_count": 4,
   "id": "79ef6834",
   "metadata": {},
   "outputs": [],
   "source": [
    "from sklearn.linear_model import LinearRegression\n",
    "\n",
    "X_train, X_test, y_train, y_test = train_test_split(X.reshape(-1,1), y, test_size=0.3, random_state=42)"
   ]
  },
  {
   "cell_type": "code",
   "execution_count": 5,
   "id": "ae332dd6",
   "metadata": {},
   "outputs": [
    {
     "data": {
      "text/plain": [
       "LinearRegression()"
      ]
     },
     "execution_count": 5,
     "metadata": {},
     "output_type": "execute_result"
    }
   ],
   "source": [
    "model_all = LinearRegression()\n",
    "model_all.fit(X_train, y_train)"
   ]
  },
  {
   "cell_type": "code",
   "execution_count": 6,
   "id": "766d39ac",
   "metadata": {},
   "outputs": [],
   "source": [
    "test_predictions = model_all.predict(X_test)"
   ]
  },
  {
   "cell_type": "code",
   "execution_count": 7,
   "id": "ccc124c1",
   "metadata": {},
   "outputs": [],
   "source": [
    "from sklearn.metrics import mean_absolute_error,mean_squared_error\n",
    "\n",
    "MAE = mean_absolute_error(y_test,test_predictions)\n",
    "MSE = mean_squared_error(y_test,test_predictions)\n",
    "RMSE = np.sqrt(MSE)"
   ]
  },
  {
   "cell_type": "code",
   "execution_count": 8,
   "id": "03fdf0b8",
   "metadata": {},
   "outputs": [
    {
     "data": {
      "text/plain": [
       "(226.2424296993316, 80000.65912270626, 282.8438776475571)"
      ]
     },
     "execution_count": 8,
     "metadata": {},
     "output_type": "execute_result"
    }
   ],
   "source": [
    "MAE, MSE, RMSE"
   ]
  },
  {
   "cell_type": "code",
   "execution_count": 9,
   "id": "2b09e1de",
   "metadata": {},
   "outputs": [
    {
     "data": {
      "text/plain": [
       "[<matplotlib.lines.Line2D at 0x7f441c640fd0>]"
      ]
     },
     "execution_count": 9,
     "metadata": {},
     "output_type": "execute_result"
    },
    {
     "data": {
      "image/png": "[encoded data removed]",
      "text/plain": [
       "<Figure size 432x288 with 1 Axes>"
      ]
     },
     "metadata": {
      "needs_background": "light"
     },
     "output_type": "display_data"
    }
   ],
   "source": [
    "# Plot outputs\n",
    "plt.scatter(X_test, y_test, color=\"black\")\n",
    "plt.plot(X_test, test_predictions, color=\"blue\", linewidth=3)"
   ]
  },
  {
   "cell_type": "code",
   "execution_count": 10,
   "id": "a00d2b00",
   "metadata": {},
   "outputs": [
    {
     "name": "stdout",
     "output_type": "stream",
     "text": [
      "[-139.40120623]\n"
     ]
    }
   ],
   "source": [
    "print(model_all.coef_)"
   ]
  },
  {
   "cell_type": "code",
   "execution_count": 11,
   "id": "c89bd69c",
   "metadata": {},
   "outputs": [
    {
     "name": "stderr",
     "output_type": "stream",
     "text": [
      "/home/paulina/miniconda3/envs/DS-2022_Udemy/lib/python3.6/site-packages/statsmodels/tools/_testing.py:19: FutureWarning: pandas.util.testing is deprecated. Use the functions in the public API at pandas.testing instead.\n",
      "  import pandas.util.testing as tm\n"
     ]
    },
    {
     "name": "stdout",
     "output_type": "stream",
     "text": [
      "                            OLS Regression Results                            \n",
      "==============================================================================\n",
      "Dep. Variable:                      y   R-squared:                       0.496\n",
      "Model:                            OLS   Adj. R-squared:                  0.495\n",
      "Method:                 Least Squares   F-statistic:                     254.4\n",
      "Date:                Tue, 12 Jul 2022   Prob (F-statistic):           2.55e-40\n",
      "Time:                        11:46:25   Log-Likelihood:                -1838.2\n",
      "No. Observations:                 260   AIC:                             3680.\n",
      "Df Residuals:                     258   BIC:                             3687.\n",
      "Df Model:                           1                                         \n",
      "Covariance Type:            nonrobust                                         \n",
      "==============================================================================\n",
      "                 coef    std err          t      P>|t|      [0.025      0.975]\n",
      "------------------------------------------------------------------------------\n",
      "const       1973.1963     52.940     37.272      0.000    1868.946    2077.446\n",
      "x1          -150.4575      9.433    -15.950      0.000    -169.034    -131.881\n",
      "==============================================================================\n",
      "Omnibus:                        2.210   Durbin-Watson:                   1.164\n",
      "Prob(Omnibus):                  0.331   Jarque-Bera (JB):                1.816\n",
      "Skew:                          -0.056   Prob(JB):                        0.403\n",
      "Kurtosis:                       2.606   Cond. No.                         17.2\n",
      "==============================================================================\n",
      "\n",
      "Warnings:\n",
      "[1] Standard Errors assume that the covariance matrix of the errors is correctly specified.\n"
     ]
    }
   ],
   "source": [
    "#Check other statistics using statsmodels\n",
    "import statsmodels.api as sm\n",
    "from scipy import stats\n",
    "\n",
    "X2 = sm.add_constant(X)\n",
    "est = sm.OLS(y, X2)\n",
    "est2 = est.fit()\n",
    "print(est2.summary())"
   ]
  },
  {
   "cell_type": "markdown",
   "id": "8d09dbbd",
   "metadata": {},
   "source": [
    "## Multilinear regression"
   ]
  },
  {
   "cell_type": "markdown",
   "id": "eea68205",
   "metadata": {},
   "source": [
    "Let's make a copy of the data frame and map out the packsize and volume to categorical data to used them as attributes in the multilinear regression"
   ]
  },
  {
   "cell_type": "code",
   "execution_count": 12,
   "id": "2c5d6d40",
   "metadata": {},
   "outputs": [],
   "source": [
    "data_mapped = df.copy()\n",
    "data_mapped[\"packsize\"] = data_mapped[\"packsize\"].map({1:\"1\",6:\"6\"})\n",
    "data_mapped[\"volume_per_joghurt_g\"] = data_mapped[\"volume_per_joghurt_g\"].map({150:\"small\",500:\"medium\", 1000: \"large\"})"
   ]
  },
  {
   "cell_type": "code",
   "execution_count": 13,
   "id": "2a7c824d",
   "metadata": {},
   "outputs": [
    {
     "data": {
      "text/html": [
       "<div>\n",
       "<style scoped>\n",
       "    .dataframe tbody tr th:only-of-type {\n",
       "        vertical-align: middle;\n",
       "    }\n",
       "\n",
       "    .dataframe tbody tr th {\n",
       "        vertical-align: top;\n",
       "    }\n",
       "\n",
       "    .dataframe thead th {\n",
       "        text-align: right;\n",
       "    }\n",
       "</style>\n",
       "<table border=\"1\" class=\"dataframe\">\n",
       "  <thead>\n",
       "    <tr style=\"text-align: right;\">\n",
       "      <th></th>\n",
       "      <th>date</th>\n",
       "      <th>product_id</th>\n",
       "      <th>price</th>\n",
       "      <th>units</th>\n",
       "      <th>brand</th>\n",
       "      <th>flavour</th>\n",
       "      <th>volume_per_joghurt_g</th>\n",
       "      <th>packsize</th>\n",
       "    </tr>\n",
       "  </thead>\n",
       "  <tbody>\n",
       "    <tr>\n",
       "      <th>0</th>\n",
       "      <td>2020-01-01</td>\n",
       "      <td>0</td>\n",
       "      <td>4.65</td>\n",
       "      <td>1126.0</td>\n",
       "      <td>Mueller</td>\n",
       "      <td>blueberry</td>\n",
       "      <td>small</td>\n",
       "      <td>6</td>\n",
       "    </tr>\n",
       "    <tr>\n",
       "      <th>1</th>\n",
       "      <td>2020-01-02</td>\n",
       "      <td>0</td>\n",
       "      <td>4.76</td>\n",
       "      <td>1205.0</td>\n",
       "      <td>Mueller</td>\n",
       "      <td>blueberry</td>\n",
       "      <td>small</td>\n",
       "      <td>6</td>\n",
       "    </tr>\n",
       "    <tr>\n",
       "      <th>2</th>\n",
       "      <td>2020-01-03</td>\n",
       "      <td>0</td>\n",
       "      <td>5.22</td>\n",
       "      <td>1007.0</td>\n",
       "      <td>Mueller</td>\n",
       "      <td>blueberry</td>\n",
       "      <td>small</td>\n",
       "      <td>6</td>\n",
       "    </tr>\n",
       "    <tr>\n",
       "      <th>3</th>\n",
       "      <td>2020-01-04</td>\n",
       "      <td>0</td>\n",
       "      <td>5.45</td>\n",
       "      <td>1282.0</td>\n",
       "      <td>Mueller</td>\n",
       "      <td>blueberry</td>\n",
       "      <td>small</td>\n",
       "      <td>6</td>\n",
       "    </tr>\n",
       "    <tr>\n",
       "      <th>4</th>\n",
       "      <td>2020-01-05</td>\n",
       "      <td>0</td>\n",
       "      <td>3.33</td>\n",
       "      <td>1037.0</td>\n",
       "      <td>Mueller</td>\n",
       "      <td>blueberry</td>\n",
       "      <td>small</td>\n",
       "      <td>6</td>\n",
       "    </tr>\n",
       "  </tbody>\n",
       "</table>\n",
       "</div>"
      ],
      "text/plain": [
       "         date  product_id  price   units    brand    flavour  \\\n",
       "0  2020-01-01           0   4.65  1126.0  Mueller  blueberry   \n",
       "1  2020-01-02           0   4.76  1205.0  Mueller  blueberry   \n",
       "2  2020-01-03           0   5.22  1007.0  Mueller  blueberry   \n",
       "3  2020-01-04           0   5.45  1282.0  Mueller  blueberry   \n",
       "4  2020-01-05           0   3.33  1037.0  Mueller  blueberry   \n",
       "\n",
       "  volume_per_joghurt_g packsize  \n",
       "0                small        6  \n",
       "1                small        6  \n",
       "2                small        6  \n",
       "3                small        6  \n",
       "4                small        6  "
      ]
     },
     "execution_count": 13,
     "metadata": {},
     "output_type": "execute_result"
    }
   ],
   "source": [
    "data_mapped.head()"
   ]
  },
  {
   "cell_type": "code",
   "execution_count": 14,
   "id": "ff5fc362",
   "metadata": {},
   "outputs": [],
   "source": [
    "# X are all the attributes to which we want to fit the \"units\" \n",
    "X = data_mapped[['price', 'brand', 'flavour', 'packsize', 'volume_per_joghurt_g', 'product_id']]\n",
    "y = data_mapped['units']"
   ]
  },
  {
   "cell_type": "code",
   "execution_count": 15,
   "id": "ab403e94",
   "metadata": {},
   "outputs": [
    {
     "data": {
      "text/html": [
       "<div>\n",
       "<style scoped>\n",
       "    .dataframe tbody tr th:only-of-type {\n",
       "        vertical-align: middle;\n",
       "    }\n",
       "\n",
       "    .dataframe tbody tr th {\n",
       "        vertical-align: top;\n",
       "    }\n",
       "\n",
       "    .dataframe thead th {\n",
       "        text-align: right;\n",
       "    }\n",
       "</style>\n",
       "<table border=\"1\" class=\"dataframe\">\n",
       "  <thead>\n",
       "    <tr style=\"text-align: right;\">\n",
       "      <th></th>\n",
       "      <th>price</th>\n",
       "      <th>product_id</th>\n",
       "      <th>brand_Activia</th>\n",
       "      <th>brand_Alnatura</th>\n",
       "      <th>brand_Danone</th>\n",
       "      <th>brand_Ecke-Mit-Was-Drin</th>\n",
       "      <th>brand_Ja!</th>\n",
       "      <th>brand_Mueller</th>\n",
       "      <th>brand_Oikos</th>\n",
       "      <th>brand_Rewe</th>\n",
       "      <th>flavour_chocolate</th>\n",
       "      <th>flavour_raspberry</th>\n",
       "      <th>flavour_straciatella</th>\n",
       "      <th>flavour_strawberry</th>\n",
       "      <th>packsize_6</th>\n",
       "      <th>volume_per_joghurt_g_medium</th>\n",
       "      <th>volume_per_joghurt_g_small</th>\n",
       "    </tr>\n",
       "  </thead>\n",
       "  <tbody>\n",
       "    <tr>\n",
       "      <th>0</th>\n",
       "      <td>4.65</td>\n",
       "      <td>0</td>\n",
       "      <td>0</td>\n",
       "      <td>0</td>\n",
       "      <td>0</td>\n",
       "      <td>0</td>\n",
       "      <td>0</td>\n",
       "      <td>1</td>\n",
       "      <td>0</td>\n",
       "      <td>0</td>\n",
       "      <td>0</td>\n",
       "      <td>0</td>\n",
       "      <td>0</td>\n",
       "      <td>0</td>\n",
       "      <td>1</td>\n",
       "      <td>0</td>\n",
       "      <td>1</td>\n",
       "    </tr>\n",
       "    <tr>\n",
       "      <th>1</th>\n",
       "      <td>4.76</td>\n",
       "      <td>0</td>\n",
       "      <td>0</td>\n",
       "      <td>0</td>\n",
       "      <td>0</td>\n",
       "      <td>0</td>\n",
       "      <td>0</td>\n",
       "      <td>1</td>\n",
       "      <td>0</td>\n",
       "      <td>0</td>\n",
       "      <td>0</td>\n",
       "      <td>0</td>\n",
       "      <td>0</td>\n",
       "      <td>0</td>\n",
       "      <td>1</td>\n",
       "      <td>0</td>\n",
       "      <td>1</td>\n",
       "    </tr>\n",
       "    <tr>\n",
       "      <th>2</th>\n",
       "      <td>5.22</td>\n",
       "      <td>0</td>\n",
       "      <td>0</td>\n",
       "      <td>0</td>\n",
       "      <td>0</td>\n",
       "      <td>0</td>\n",
       "      <td>0</td>\n",
       "      <td>1</td>\n",
       "      <td>0</td>\n",
       "      <td>0</td>\n",
       "      <td>0</td>\n",
       "      <td>0</td>\n",
       "      <td>0</td>\n",
       "      <td>0</td>\n",
       "      <td>1</td>\n",
       "      <td>0</td>\n",
       "      <td>1</td>\n",
       "    </tr>\n",
       "    <tr>\n",
       "      <th>3</th>\n",
       "      <td>5.45</td>\n",
       "      <td>0</td>\n",
       "      <td>0</td>\n",
       "      <td>0</td>\n",
       "      <td>0</td>\n",
       "      <td>0</td>\n",
       "      <td>0</td>\n",
       "      <td>1</td>\n",
       "      <td>0</td>\n",
       "      <td>0</td>\n",
       "      <td>0</td>\n",
       "      <td>0</td>\n",
       "      <td>0</td>\n",
       "      <td>0</td>\n",
       "      <td>1</td>\n",
       "      <td>0</td>\n",
       "      <td>1</td>\n",
       "    </tr>\n",
       "    <tr>\n",
       "      <th>4</th>\n",
       "      <td>3.33</td>\n",
       "      <td>0</td>\n",
       "      <td>0</td>\n",
       "      <td>0</td>\n",
       "      <td>0</td>\n",
       "      <td>0</td>\n",
       "      <td>0</td>\n",
       "      <td>1</td>\n",
       "      <td>0</td>\n",
       "      <td>0</td>\n",
       "      <td>0</td>\n",
       "      <td>0</td>\n",
       "      <td>0</td>\n",
       "      <td>0</td>\n",
       "      <td>1</td>\n",
       "      <td>0</td>\n",
       "      <td>1</td>\n",
       "    </tr>\n",
       "    <tr>\n",
       "      <th>...</th>\n",
       "      <td>...</td>\n",
       "      <td>...</td>\n",
       "      <td>...</td>\n",
       "      <td>...</td>\n",
       "      <td>...</td>\n",
       "      <td>...</td>\n",
       "      <td>...</td>\n",
       "      <td>...</td>\n",
       "      <td>...</td>\n",
       "      <td>...</td>\n",
       "      <td>...</td>\n",
       "      <td>...</td>\n",
       "      <td>...</td>\n",
       "      <td>...</td>\n",
       "      <td>...</td>\n",
       "      <td>...</td>\n",
       "      <td>...</td>\n",
       "    </tr>\n",
       "    <tr>\n",
       "      <th>255</th>\n",
       "      <td>3.18</td>\n",
       "      <td>26</td>\n",
       "      <td>0</td>\n",
       "      <td>0</td>\n",
       "      <td>0</td>\n",
       "      <td>0</td>\n",
       "      <td>0</td>\n",
       "      <td>0</td>\n",
       "      <td>1</td>\n",
       "      <td>0</td>\n",
       "      <td>0</td>\n",
       "      <td>0</td>\n",
       "      <td>0</td>\n",
       "      <td>1</td>\n",
       "      <td>0</td>\n",
       "      <td>1</td>\n",
       "      <td>0</td>\n",
       "    </tr>\n",
       "    <tr>\n",
       "      <th>256</th>\n",
       "      <td>2.81</td>\n",
       "      <td>26</td>\n",
       "      <td>0</td>\n",
       "      <td>0</td>\n",
       "      <td>0</td>\n",
       "      <td>0</td>\n",
       "      <td>0</td>\n",
       "      <td>0</td>\n",
       "      <td>1</td>\n",
       "      <td>0</td>\n",
       "      <td>0</td>\n",
       "      <td>0</td>\n",
       "      <td>0</td>\n",
       "      <td>1</td>\n",
       "      <td>0</td>\n",
       "      <td>1</td>\n",
       "      <td>0</td>\n",
       "    </tr>\n",
       "    <tr>\n",
       "      <th>257</th>\n",
       "      <td>5.00</td>\n",
       "      <td>26</td>\n",
       "      <td>0</td>\n",
       "      <td>0</td>\n",
       "      <td>0</td>\n",
       "      <td>0</td>\n",
       "      <td>0</td>\n",
       "      <td>0</td>\n",
       "      <td>1</td>\n",
       "      <td>0</td>\n",
       "      <td>0</td>\n",
       "      <td>0</td>\n",
       "      <td>0</td>\n",
       "      <td>1</td>\n",
       "      <td>0</td>\n",
       "      <td>1</td>\n",
       "      <td>0</td>\n",
       "    </tr>\n",
       "    <tr>\n",
       "      <th>258</th>\n",
       "      <td>3.38</td>\n",
       "      <td>26</td>\n",
       "      <td>0</td>\n",
       "      <td>0</td>\n",
       "      <td>0</td>\n",
       "      <td>0</td>\n",
       "      <td>0</td>\n",
       "      <td>0</td>\n",
       "      <td>1</td>\n",
       "      <td>0</td>\n",
       "      <td>0</td>\n",
       "      <td>0</td>\n",
       "      <td>0</td>\n",
       "      <td>1</td>\n",
       "      <td>0</td>\n",
       "      <td>1</td>\n",
       "      <td>0</td>\n",
       "    </tr>\n",
       "    <tr>\n",
       "      <th>259</th>\n",
       "      <td>4.15</td>\n",
       "      <td>26</td>\n",
       "      <td>0</td>\n",
       "      <td>0</td>\n",
       "      <td>0</td>\n",
       "      <td>0</td>\n",
       "      <td>0</td>\n",
       "      <td>0</td>\n",
       "      <td>1</td>\n",
       "      <td>0</td>\n",
       "      <td>0</td>\n",
       "      <td>0</td>\n",
       "      <td>0</td>\n",
       "      <td>1</td>\n",
       "      <td>0</td>\n",
       "      <td>1</td>\n",
       "      <td>0</td>\n",
       "    </tr>\n",
       "  </tbody>\n",
       "</table>\n",
       "<p>260 rows × 17 columns</p>\n",
       "</div>"
      ],
      "text/plain": [
       "     price  product_id  brand_Activia  brand_Alnatura  brand_Danone  \\\n",
       "0     4.65           0              0               0             0   \n",
       "1     4.76           0              0               0             0   \n",
       "2     5.22           0              0               0             0   \n",
       "3     5.45           0              0               0             0   \n",
       "4     3.33           0              0               0             0   \n",
       "..     ...         ...            ...             ...           ...   \n",
       "255   3.18          26              0               0             0   \n",
       "256   2.81          26              0               0             0   \n",
       "257   5.00          26              0               0             0   \n",
       "258   3.38          26              0               0             0   \n",
       "259   4.15          26              0               0             0   \n",
       "\n",
       "     brand_Ecke-Mit-Was-Drin  brand_Ja!  brand_Mueller  brand_Oikos  \\\n",
       "0                          0          0              1            0   \n",
       "1                          0          0              1            0   \n",
       "2                          0          0              1            0   \n",
       "3                          0          0              1            0   \n",
       "4                          0          0              1            0   \n",
       "..                       ...        ...            ...          ...   \n",
       "255                        0          0              0            1   \n",
       "256                        0          0              0            1   \n",
       "257                        0          0              0            1   \n",
       "258                        0          0              0            1   \n",
       "259                        0          0              0            1   \n",
       "\n",
       "     brand_Rewe  flavour_chocolate  flavour_raspberry  flavour_straciatella  \\\n",
       "0             0                  0                  0                     0   \n",
       "1             0                  0                  0                     0   \n",
       "2             0                  0                  0                     0   \n",
       "3             0                  0                  0                     0   \n",
       "4             0                  0                  0                     0   \n",
       "..          ...                ...                ...                   ...   \n",
       "255           0                  0                  0                     0   \n",
       "256           0                  0                  0                     0   \n",
       "257           0                  0                  0                     0   \n",
       "258           0                  0                  0                     0   \n",
       "259           0                  0                  0                     0   \n",
       "\n",
       "     flavour_strawberry  packsize_6  volume_per_joghurt_g_medium  \\\n",
       "0                     0           1                            0   \n",
       "1                     0           1                            0   \n",
       "2                     0           1                            0   \n",
       "3                     0           1                            0   \n",
       "4                     0           1                            0   \n",
       "..                  ...         ...                          ...   \n",
       "255                   1           0                            1   \n",
       "256                   1           0                            1   \n",
       "257                   1           0                            1   \n",
       "258                   1           0                            1   \n",
       "259                   1           0                            1   \n",
       "\n",
       "     volume_per_joghurt_g_small  \n",
       "0                             1  \n",
       "1                             1  \n",
       "2                             1  \n",
       "3                             1  \n",
       "4                             1  \n",
       "..                          ...  \n",
       "255                           0  \n",
       "256                           0  \n",
       "257                           0  \n",
       "258                           0  \n",
       "259                           0  \n",
       "\n",
       "[260 rows x 17 columns]"
      ]
     },
     "execution_count": 15,
     "metadata": {},
     "output_type": "execute_result"
    }
   ],
   "source": [
    "# Turn categorical attributes to dummy variables\n",
    "X = pd.get_dummies(data=X, drop_first=True)\n",
    "X"
   ]
  },
  {
   "cell_type": "code",
   "execution_count": 16,
   "id": "78f0902e",
   "metadata": {},
   "outputs": [],
   "source": [
    "#Create the split\n",
    "X_train, X_test, y_train, y_test = train_test_split(X, y, test_size=0.3, random_state=42)"
   ]
  },
  {
   "cell_type": "code",
   "execution_count": 17,
   "id": "3d75238e",
   "metadata": {},
   "outputs": [],
   "source": [
    "# create a linear regression object\n",
    "multi_model = LinearRegression()"
   ]
  },
  {
   "cell_type": "code",
   "execution_count": 18,
   "id": "bc498c93",
   "metadata": {},
   "outputs": [
    {
     "data": {
      "text/plain": [
       "LinearRegression()"
      ]
     },
     "execution_count": 18,
     "metadata": {},
     "output_type": "execute_result"
    }
   ],
   "source": [
    "multi_model.fit(X_train, y_train)"
   ]
  },
  {
   "cell_type": "code",
   "execution_count": 19,
   "id": "e11ded7c",
   "metadata": {},
   "outputs": [
    {
     "data": {
      "text/plain": [
       "array([1667.46023182, 1232.70405078, 1302.44004644,  543.5702811 ,\n",
       "        898.00771822, 1339.43804191, 1280.05120805,  558.27982557,\n",
       "       1063.62781363, 1191.39567551, 1249.73706935,  620.20889454,\n",
       "       1732.49059834,  662.58086403,  670.59353505,  650.18835145,\n",
       "       1202.3885585 , 1263.97343369,  887.68062441, 1145.05992634,\n",
       "       1044.6577257 , 1284.16899951, 1664.13661048, 1551.08260231,\n",
       "       1212.04986314, 1450.24353153,  624.20407219, 1405.83702812,\n",
       "       1415.80427915, 1522.65542519,  484.36246148,  951.31885666,\n",
       "        626.43864476, 1107.73174693, 1651.25541233, 1282.41027411,\n",
       "        891.81146193, 1828.33740217, 1033.2979225 ,  589.32189881,\n",
       "        776.2422969 , 1263.99600003, 1335.45194803, 1153.03770092,\n",
       "       1452.43118723,  668.18473142,  769.98524882, 1181.49765562,\n",
       "       1611.84456688, 1277.98578928,  701.88722141,  590.29120731,\n",
       "        928.4838571 , 1313.92117173, 1661.03848234, 1561.50673881,\n",
       "       1348.19698118,  522.99855278, 1072.14585432, 1696.34576997,\n",
       "       1037.52197763, 1227.52603521,  796.29705624,  599.58820084,\n",
       "        993.54454815, 1323.09423408, 1252.99131821, 1032.26521312,\n",
       "        976.49890651, 1075.63900715, 1299.6726863 ,  749.07944806,\n",
       "       1334.77175922, 1484.98527175, 1144.76627904, 1469.02397884,\n",
       "       1580.68231922,  637.79844796])"
      ]
     },
     "execution_count": 19,
     "metadata": {},
     "output_type": "execute_result"
    }
   ],
   "source": [
    "test_predictions = multi_model.predict(X_test)\n",
    "test_predictions"
   ]
  },
  {
   "cell_type": "code",
   "execution_count": 20,
   "id": "e70a93bd",
   "metadata": {},
   "outputs": [],
   "source": [
    "MAE_mult = mean_absolute_error(y_test,test_predictions)\n",
    "MSE_mult = mean_squared_error(y_test,test_predictions)\n",
    "RMSE_mult = np.sqrt(MSE_mult)"
   ]
  },
  {
   "cell_type": "code",
   "execution_count": 21,
   "id": "263287e9",
   "metadata": {},
   "outputs": [
    {
     "data": {
      "text/plain": [
       "(194.08791262967284, 58359.62847118551, 241.5773757436435)"
      ]
     },
     "execution_count": 21,
     "metadata": {},
     "output_type": "execute_result"
    }
   ],
   "source": [
    "MAE_mult, MSE_mult, RMSE_mult"
   ]
  },
  {
   "cell_type": "markdown",
   "id": "6194971c",
   "metadata": {},
   "source": [
    "The MSE of multilinear improved compare to MSE of the simple linear reg. "
   ]
  },
  {
   "cell_type": "code",
   "execution_count": 22,
   "id": "a62e5db8",
   "metadata": {},
   "outputs": [
    {
     "data": {
      "text/plain": [
       "array([-1.03270938e+02,  1.60600650e-01, -6.00441515e+01,  1.40128940e+02,\n",
       "       -2.16814356e+01,  6.80307222e+01,  1.25242838e+02,  1.06809717e+02,\n",
       "       -1.41105436e+00, -8.46602623e+01,  3.68069370e+02, -1.87243546e+01,\n",
       "        3.18249686e+02,  1.33475633e+01, -1.51631127e+02,  4.04661535e+01,\n",
       "        1.07519122e+02])"
      ]
     },
     "execution_count": 22,
     "metadata": {},
     "output_type": "execute_result"
    }
   ],
   "source": [
    "#This are the coefficients asociated to each attribute\n",
    "multi_model.coef_"
   ]
  },
  {
   "cell_type": "markdown",
   "id": "3d546686",
   "metadata": {},
   "source": [
    "### Calculating the R-squared adjusted"
   ]
  },
  {
   "cell_type": "code",
   "execution_count": 23,
   "id": "cd437ef2",
   "metadata": {},
   "outputs": [
    {
     "data": {
      "text/plain": [
       "0.6801585969458417"
      ]
     },
     "execution_count": 23,
     "metadata": {},
     "output_type": "execute_result"
    }
   ],
   "source": [
    "multi_model.score(X_train,y_train)"
   ]
  },
  {
   "cell_type": "code",
   "execution_count": 24,
   "id": "132fafbe",
   "metadata": {},
   "outputs": [
    {
     "data": {
      "text/plain": [
       "(260, 17)"
      ]
     },
     "execution_count": 24,
     "metadata": {},
     "output_type": "execute_result"
    }
   ],
   "source": [
    "X.shape"
   ]
  },
  {
   "cell_type": "code",
   "execution_count": 25,
   "id": "2cf5b248",
   "metadata": {},
   "outputs": [
    {
     "data": {
      "text/plain": [
       "0.6352957958602559"
      ]
     },
     "execution_count": 25,
     "metadata": {},
     "output_type": "execute_result"
    }
   ],
   "source": [
    "r2 = multi_model.score(X_test,y_test)\n",
    "n = X.shape[0]\n",
    "p= X.shape[1]\n",
    "\n",
    "adj_r2 = 1- (1-r2)*(n-1)/(n-p-1)\n",
    "adj_r2"
   ]
  },
  {
   "cell_type": "markdown",
   "id": "9a85e406",
   "metadata": {},
   "source": [
    "### Feature selection"
   ]
  },
  {
   "cell_type": "code",
   "execution_count": 26,
   "id": "3c25265d",
   "metadata": {},
   "outputs": [
    {
     "data": {
      "text/plain": [
       "array([0.   , 0.001, 0.028, 0.106, 0.029, 0.074, 0.787, 0.2  , 0.001,\n",
       "       0.   , 0.   , 0.   , 0.   , 0.488, 0.   , 0.001, 0.   ])"
      ]
     },
     "execution_count": 26,
     "metadata": {},
     "output_type": "execute_result"
    }
   ],
   "source": [
    "from sklearn.feature_selection import f_regression\n",
    "\n",
    "# Checking which features/attributes are better predictors\n",
    "p_val = f_regression(X, y)[1]\n",
    "p_val.round(3)"
   ]
  },
  {
   "cell_type": "code",
   "execution_count": 27,
   "id": "154bbe20",
   "metadata": {},
   "outputs": [
    {
     "data": {
      "text/html": [
       "<div>\n",
       "<style scoped>\n",
       "    .dataframe tbody tr th:only-of-type {\n",
       "        vertical-align: middle;\n",
       "    }\n",
       "\n",
       "    .dataframe tbody tr th {\n",
       "        vertical-align: top;\n",
       "    }\n",
       "\n",
       "    .dataframe thead th {\n",
       "        text-align: right;\n",
       "    }\n",
       "</style>\n",
       "<table border=\"1\" class=\"dataframe\">\n",
       "  <thead>\n",
       "    <tr style=\"text-align: right;\">\n",
       "      <th></th>\n",
       "      <th>Features</th>\n",
       "      <th>Weights</th>\n",
       "    </tr>\n",
       "  </thead>\n",
       "  <tbody>\n",
       "    <tr>\n",
       "      <th>0</th>\n",
       "      <td>price</td>\n",
       "      <td>-103.270938</td>\n",
       "    </tr>\n",
       "    <tr>\n",
       "      <th>1</th>\n",
       "      <td>product_id</td>\n",
       "      <td>0.160601</td>\n",
       "    </tr>\n",
       "    <tr>\n",
       "      <th>2</th>\n",
       "      <td>brand_Activia</td>\n",
       "      <td>-60.044151</td>\n",
       "    </tr>\n",
       "    <tr>\n",
       "      <th>3</th>\n",
       "      <td>brand_Alnatura</td>\n",
       "      <td>140.128940</td>\n",
       "    </tr>\n",
       "    <tr>\n",
       "      <th>4</th>\n",
       "      <td>brand_Danone</td>\n",
       "      <td>-21.681436</td>\n",
       "    </tr>\n",
       "    <tr>\n",
       "      <th>5</th>\n",
       "      <td>brand_Ecke-Mit-Was-Drin</td>\n",
       "      <td>68.030722</td>\n",
       "    </tr>\n",
       "    <tr>\n",
       "      <th>6</th>\n",
       "      <td>brand_Ja!</td>\n",
       "      <td>125.242838</td>\n",
       "    </tr>\n",
       "    <tr>\n",
       "      <th>7</th>\n",
       "      <td>brand_Mueller</td>\n",
       "      <td>106.809717</td>\n",
       "    </tr>\n",
       "    <tr>\n",
       "      <th>8</th>\n",
       "      <td>brand_Oikos</td>\n",
       "      <td>-1.411054</td>\n",
       "    </tr>\n",
       "    <tr>\n",
       "      <th>9</th>\n",
       "      <td>brand_Rewe</td>\n",
       "      <td>-84.660262</td>\n",
       "    </tr>\n",
       "    <tr>\n",
       "      <th>10</th>\n",
       "      <td>flavour_chocolate</td>\n",
       "      <td>368.069370</td>\n",
       "    </tr>\n",
       "    <tr>\n",
       "      <th>11</th>\n",
       "      <td>flavour_raspberry</td>\n",
       "      <td>-18.724355</td>\n",
       "    </tr>\n",
       "    <tr>\n",
       "      <th>12</th>\n",
       "      <td>flavour_straciatella</td>\n",
       "      <td>318.249686</td>\n",
       "    </tr>\n",
       "    <tr>\n",
       "      <th>13</th>\n",
       "      <td>flavour_strawberry</td>\n",
       "      <td>13.347563</td>\n",
       "    </tr>\n",
       "    <tr>\n",
       "      <th>14</th>\n",
       "      <td>packsize_6</td>\n",
       "      <td>-151.631127</td>\n",
       "    </tr>\n",
       "    <tr>\n",
       "      <th>15</th>\n",
       "      <td>volume_per_joghurt_g_medium</td>\n",
       "      <td>40.466154</td>\n",
       "    </tr>\n",
       "    <tr>\n",
       "      <th>16</th>\n",
       "      <td>volume_per_joghurt_g_small</td>\n",
       "      <td>107.519122</td>\n",
       "    </tr>\n",
       "  </tbody>\n",
       "</table>\n",
       "</div>"
      ],
      "text/plain": [
       "                       Features     Weights\n",
       "0                         price -103.270938\n",
       "1                    product_id    0.160601\n",
       "2                 brand_Activia  -60.044151\n",
       "3                brand_Alnatura  140.128940\n",
       "4                  brand_Danone  -21.681436\n",
       "5       brand_Ecke-Mit-Was-Drin   68.030722\n",
       "6                     brand_Ja!  125.242838\n",
       "7                 brand_Mueller  106.809717\n",
       "8                   brand_Oikos   -1.411054\n",
       "9                    brand_Rewe  -84.660262\n",
       "10            flavour_chocolate  368.069370\n",
       "11            flavour_raspberry  -18.724355\n",
       "12         flavour_straciatella  318.249686\n",
       "13           flavour_strawberry   13.347563\n",
       "14                   packsize_6 -151.631127\n",
       "15  volume_per_joghurt_g_medium   40.466154\n",
       "16   volume_per_joghurt_g_small  107.519122"
      ]
     },
     "execution_count": 27,
     "metadata": {},
     "output_type": "execute_result"
    }
   ],
   "source": [
    "multi_model_summary = pd.DataFrame(X.columns.values, columns=[\"Features\"])\n",
    "multi_model_summary[\"Weights\"] = multi_model.coef_\n",
    "multi_model_summary"
   ]
  },
  {
   "cell_type": "markdown",
   "id": "de2ea5aa",
   "metadata": {},
   "source": [
    "#### Interpretation of Weights"
   ]
  },
  {
   "cell_type": "markdown",
   "id": "ca22272a",
   "metadata": {},
   "source": [
    "The brand that serves as benchmark is \"Actimel\". \n",
    "Alnatura, Ja!, Mueller,brand_Ecke-Mit-Was-Drin will sell more units than Actimel. Oikos, Danone, Activia are selling much less. The brand with the worst perfomance is Rewe. "
   ]
  },
  {
   "cell_type": "markdown",
   "id": "83e002df",
   "metadata": {},
   "source": [
    "\"Blueberry\" flavour is the benchmark for this category. Chocolate and Straciatelle have superior units sells in comparison to blueberry. Raspberry is the least sold flavour."
   ]
  },
  {
   "cell_type": "markdown",
   "id": "eddb2f70",
   "metadata": {},
   "source": [
    "Individual packsizes are much more preferred comparing to the packsize of 6. When it comes to volume per joghurt, the small volumes of 150g sell higher units. "
   ]
  },
  {
   "cell_type": "markdown",
   "id": "440a0be8",
   "metadata": {},
   "source": [
    "### Testing predictivity of the model"
   ]
  },
  {
   "cell_type": "code",
   "execution_count": 28,
   "id": "285bc7a2",
   "metadata": {},
   "outputs": [
    {
     "name": "stderr",
     "output_type": "stream",
     "text": [
      "/home/paulina/miniconda3/envs/DS-2022_Udemy/lib/python3.6/site-packages/seaborn/distributions.py:2619: FutureWarning: `distplot` is a deprecated function and will be removed in a future version. Please adapt your code to use either `displot` (a figure-level function with similar flexibility) or `histplot` (an axes-level function for histograms).\n",
      "  warnings.warn(msg, FutureWarning)\n"
     ]
    },
    {
     "data": {
      "text/plain": [
       "<AxesSubplot:xlabel='units', ylabel='Density'>"
      ]
     },
     "execution_count": 28,
     "metadata": {},
     "output_type": "execute_result"
    },
    {
     "data": {
      "image/png": "[encoded data removed]",
      "text/plain": [
       "<Figure size 432x288 with 1 Axes>"
      ]
     },
     "metadata": {
      "needs_background": "light"
     },
     "output_type": "display_data"
    }
   ],
   "source": [
    "sns.distplot(y_test - test_predictions)"
   ]
  },
  {
   "cell_type": "code",
   "execution_count": 29,
   "id": "9f113b28",
   "metadata": {},
   "outputs": [
    {
     "data": {
      "image/png": "[encoded data removed]",
      "text/plain": [
       "<Figure size 432x288 with 1 Axes>"
      ]
     },
     "metadata": {
      "needs_background": "light"
     },
     "output_type": "display_data"
    }
   ],
   "source": [
    "plt.scatter(y_test, test_predictions)\n",
    "plt.xlabel(\"y_test\", size = 18)\n",
    "plt.ylabel(\"predictions\", size = 18)\n",
    "plt.xlim(-100,2000)\n",
    "plt.ylim(0,2000)\n",
    "plt.show()"
   ]
  },
  {
   "cell_type": "code",
   "execution_count": 30,
   "id": "985ace49",
   "metadata": {},
   "outputs": [],
   "source": [
    "df_pf = pd.DataFrame(test_predictions, columns=[\"Predictions\"])"
   ]
  },
  {
   "cell_type": "code",
   "execution_count": 31,
   "id": "d28699f2",
   "metadata": {},
   "outputs": [],
   "source": [
    "df_pf[\"y_test\"] = y_test"
   ]
  },
  {
   "cell_type": "code",
   "execution_count": 32,
   "id": "2f0c3bfd",
   "metadata": {},
   "outputs": [],
   "source": [
    "y_test  = y_test.reset_index(drop=True)"
   ]
  },
  {
   "cell_type": "code",
   "execution_count": 33,
   "id": "9e2adf20",
   "metadata": {},
   "outputs": [
    {
     "data": {
      "text/html": [
       "<div>\n",
       "<style scoped>\n",
       "    .dataframe tbody tr th:only-of-type {\n",
       "        vertical-align: middle;\n",
       "    }\n",
       "\n",
       "    .dataframe tbody tr th {\n",
       "        vertical-align: top;\n",
       "    }\n",
       "\n",
       "    .dataframe thead th {\n",
       "        text-align: right;\n",
       "    }\n",
       "</style>\n",
       "<table border=\"1\" class=\"dataframe\">\n",
       "  <thead>\n",
       "    <tr style=\"text-align: right;\">\n",
       "      <th></th>\n",
       "      <th>Predictions</th>\n",
       "      <th>y_test</th>\n",
       "    </tr>\n",
       "  </thead>\n",
       "  <tbody>\n",
       "    <tr>\n",
       "      <th>0</th>\n",
       "      <td>1667.460232</td>\n",
       "      <td>1478.0</td>\n",
       "    </tr>\n",
       "    <tr>\n",
       "      <th>1</th>\n",
       "      <td>1232.704051</td>\n",
       "      <td>1559.0</td>\n",
       "    </tr>\n",
       "    <tr>\n",
       "      <th>2</th>\n",
       "      <td>1302.440046</td>\n",
       "      <td>1144.0</td>\n",
       "    </tr>\n",
       "    <tr>\n",
       "      <th>3</th>\n",
       "      <td>543.570281</td>\n",
       "      <td>345.0</td>\n",
       "    </tr>\n",
       "    <tr>\n",
       "      <th>4</th>\n",
       "      <td>898.007718</td>\n",
       "      <td>826.0</td>\n",
       "    </tr>\n",
       "    <tr>\n",
       "      <th>...</th>\n",
       "      <td>...</td>\n",
       "      <td>...</td>\n",
       "    </tr>\n",
       "    <tr>\n",
       "      <th>73</th>\n",
       "      <td>1484.985272</td>\n",
       "      <td>1446.0</td>\n",
       "    </tr>\n",
       "    <tr>\n",
       "      <th>74</th>\n",
       "      <td>1144.766279</td>\n",
       "      <td>809.0</td>\n",
       "    </tr>\n",
       "    <tr>\n",
       "      <th>75</th>\n",
       "      <td>1469.023979</td>\n",
       "      <td>1375.0</td>\n",
       "    </tr>\n",
       "    <tr>\n",
       "      <th>76</th>\n",
       "      <td>1580.682319</td>\n",
       "      <td>1559.0</td>\n",
       "    </tr>\n",
       "    <tr>\n",
       "      <th>77</th>\n",
       "      <td>637.798448</td>\n",
       "      <td>857.0</td>\n",
       "    </tr>\n",
       "  </tbody>\n",
       "</table>\n",
       "<p>78 rows × 2 columns</p>\n",
       "</div>"
      ],
      "text/plain": [
       "    Predictions  y_test\n",
       "0   1667.460232  1478.0\n",
       "1   1232.704051  1559.0\n",
       "2   1302.440046  1144.0\n",
       "3    543.570281   345.0\n",
       "4    898.007718   826.0\n",
       "..          ...     ...\n",
       "73  1484.985272  1446.0\n",
       "74  1144.766279   809.0\n",
       "75  1469.023979  1375.0\n",
       "76  1580.682319  1559.0\n",
       "77   637.798448   857.0\n",
       "\n",
       "[78 rows x 2 columns]"
      ]
     },
     "execution_count": 33,
     "metadata": {},
     "output_type": "execute_result"
    }
   ],
   "source": [
    "df_pf[\"y_test\"] = y_test\n",
    "df_pf"
   ]
  },
  {
   "cell_type": "code",
   "execution_count": 34,
   "id": "6b5449f0",
   "metadata": {},
   "outputs": [],
   "source": [
    "df_pf[\"Residual\"] = df_pf[\"y_test\"] - df_pf[\"Predictions\"]"
   ]
  },
  {
   "cell_type": "code",
   "execution_count": 35,
   "id": "c728a502",
   "metadata": {},
   "outputs": [],
   "source": [
    "df_pf[\"Difference%\"] = np.absolute(df_pf[\"Residual\"]/df_pf[\"y_test\"]*100)"
   ]
  },
  {
   "cell_type": "code",
   "execution_count": 36,
   "id": "06310ba5",
   "metadata": {},
   "outputs": [
    {
     "data": {
      "text/html": [
       "<div>\n",
       "<style scoped>\n",
       "    .dataframe tbody tr th:only-of-type {\n",
       "        vertical-align: middle;\n",
       "    }\n",
       "\n",
       "    .dataframe tbody tr th {\n",
       "        vertical-align: top;\n",
       "    }\n",
       "\n",
       "    .dataframe thead th {\n",
       "        text-align: right;\n",
       "    }\n",
       "</style>\n",
       "<table border=\"1\" class=\"dataframe\">\n",
       "  <thead>\n",
       "    <tr style=\"text-align: right;\">\n",
       "      <th></th>\n",
       "      <th>Predictions</th>\n",
       "      <th>y_test</th>\n",
       "      <th>Residual</th>\n",
       "      <th>Difference%</th>\n",
       "    </tr>\n",
       "  </thead>\n",
       "  <tbody>\n",
       "    <tr>\n",
       "      <th>0</th>\n",
       "      <td>1667.460232</td>\n",
       "      <td>1478.0</td>\n",
       "      <td>-189.460232</td>\n",
       "      <td>12.818690</td>\n",
       "    </tr>\n",
       "    <tr>\n",
       "      <th>1</th>\n",
       "      <td>1232.704051</td>\n",
       "      <td>1559.0</td>\n",
       "      <td>326.295949</td>\n",
       "      <td>20.929824</td>\n",
       "    </tr>\n",
       "    <tr>\n",
       "      <th>2</th>\n",
       "      <td>1302.440046</td>\n",
       "      <td>1144.0</td>\n",
       "      <td>-158.440046</td>\n",
       "      <td>13.849654</td>\n",
       "    </tr>\n",
       "    <tr>\n",
       "      <th>3</th>\n",
       "      <td>543.570281</td>\n",
       "      <td>345.0</td>\n",
       "      <td>-198.570281</td>\n",
       "      <td>57.556603</td>\n",
       "    </tr>\n",
       "    <tr>\n",
       "      <th>4</th>\n",
       "      <td>898.007718</td>\n",
       "      <td>826.0</td>\n",
       "      <td>-72.007718</td>\n",
       "      <td>8.717641</td>\n",
       "    </tr>\n",
       "    <tr>\n",
       "      <th>...</th>\n",
       "      <td>...</td>\n",
       "      <td>...</td>\n",
       "      <td>...</td>\n",
       "      <td>...</td>\n",
       "    </tr>\n",
       "    <tr>\n",
       "      <th>73</th>\n",
       "      <td>1484.985272</td>\n",
       "      <td>1446.0</td>\n",
       "      <td>-38.985272</td>\n",
       "      <td>2.696077</td>\n",
       "    </tr>\n",
       "    <tr>\n",
       "      <th>74</th>\n",
       "      <td>1144.766279</td>\n",
       "      <td>809.0</td>\n",
       "      <td>-335.766279</td>\n",
       "      <td>41.503866</td>\n",
       "    </tr>\n",
       "    <tr>\n",
       "      <th>75</th>\n",
       "      <td>1469.023979</td>\n",
       "      <td>1375.0</td>\n",
       "      <td>-94.023979</td>\n",
       "      <td>6.838108</td>\n",
       "    </tr>\n",
       "    <tr>\n",
       "      <th>76</th>\n",
       "      <td>1580.682319</td>\n",
       "      <td>1559.0</td>\n",
       "      <td>-21.682319</td>\n",
       "      <td>1.390784</td>\n",
       "    </tr>\n",
       "    <tr>\n",
       "      <th>77</th>\n",
       "      <td>637.798448</td>\n",
       "      <td>857.0</td>\n",
       "      <td>219.201552</td>\n",
       "      <td>25.577777</td>\n",
       "    </tr>\n",
       "  </tbody>\n",
       "</table>\n",
       "<p>78 rows × 4 columns</p>\n",
       "</div>"
      ],
      "text/plain": [
       "    Predictions  y_test    Residual  Difference%\n",
       "0   1667.460232  1478.0 -189.460232    12.818690\n",
       "1   1232.704051  1559.0  326.295949    20.929824\n",
       "2   1302.440046  1144.0 -158.440046    13.849654\n",
       "3    543.570281   345.0 -198.570281    57.556603\n",
       "4    898.007718   826.0  -72.007718     8.717641\n",
       "..          ...     ...         ...          ...\n",
       "73  1484.985272  1446.0  -38.985272     2.696077\n",
       "74  1144.766279   809.0 -335.766279    41.503866\n",
       "75  1469.023979  1375.0  -94.023979     6.838108\n",
       "76  1580.682319  1559.0  -21.682319     1.390784\n",
       "77   637.798448   857.0  219.201552    25.577777\n",
       "\n",
       "[78 rows x 4 columns]"
      ]
     },
     "execution_count": 36,
     "metadata": {},
     "output_type": "execute_result"
    }
   ],
   "source": [
    "df_pf"
   ]
  },
  {
   "cell_type": "code",
   "execution_count": 37,
   "id": "b9992b6b",
   "metadata": {},
   "outputs": [
    {
     "data": {
      "text/html": [
       "<div>\n",
       "<style scoped>\n",
       "    .dataframe tbody tr th:only-of-type {\n",
       "        vertical-align: middle;\n",
       "    }\n",
       "\n",
       "    .dataframe tbody tr th {\n",
       "        vertical-align: top;\n",
       "    }\n",
       "\n",
       "    .dataframe thead th {\n",
       "        text-align: right;\n",
       "    }\n",
       "</style>\n",
       "<table border=\"1\" class=\"dataframe\">\n",
       "  <thead>\n",
       "    <tr style=\"text-align: right;\">\n",
       "      <th></th>\n",
       "      <th>Predictions</th>\n",
       "      <th>y_test</th>\n",
       "      <th>Residual</th>\n",
       "      <th>Difference%</th>\n",
       "    </tr>\n",
       "  </thead>\n",
       "  <tbody>\n",
       "    <tr>\n",
       "      <th>count</th>\n",
       "      <td>78.000000</td>\n",
       "      <td>78.000000</td>\n",
       "      <td>78.000000</td>\n",
       "      <td>78.000000</td>\n",
       "    </tr>\n",
       "    <tr>\n",
       "      <th>mean</th>\n",
       "      <td>1124.182341</td>\n",
       "      <td>1082.756410</td>\n",
       "      <td>-41.425931</td>\n",
       "      <td>90.065387</td>\n",
       "    </tr>\n",
       "    <tr>\n",
       "      <th>std</th>\n",
       "      <td>352.842891</td>\n",
       "      <td>416.514392</td>\n",
       "      <td>239.539456</td>\n",
       "      <td>455.431626</td>\n",
       "    </tr>\n",
       "    <tr>\n",
       "      <th>min</th>\n",
       "      <td>484.362461</td>\n",
       "      <td>16.000000</td>\n",
       "      <td>-604.208895</td>\n",
       "      <td>1.026545</td>\n",
       "    </tr>\n",
       "    <tr>\n",
       "      <th>25%</th>\n",
       "      <td>819.142948</td>\n",
       "      <td>813.250000</td>\n",
       "      <td>-196.292769</td>\n",
       "      <td>6.563760</td>\n",
       "    </tr>\n",
       "    <tr>\n",
       "      <th>50%</th>\n",
       "      <td>1186.446666</td>\n",
       "      <td>1220.500000</td>\n",
       "      <td>-21.443196</td>\n",
       "      <td>14.936420</td>\n",
       "    </tr>\n",
       "    <tr>\n",
       "      <th>75%</th>\n",
       "      <td>1338.441518</td>\n",
       "      <td>1416.250000</td>\n",
       "      <td>148.115910</td>\n",
       "      <td>26.145516</td>\n",
       "    </tr>\n",
       "    <tr>\n",
       "      <th>max</th>\n",
       "      <td>1828.337402</td>\n",
       "      <td>1780.000000</td>\n",
       "      <td>516.026566</td>\n",
       "      <td>3776.305591</td>\n",
       "    </tr>\n",
       "  </tbody>\n",
       "</table>\n",
       "</div>"
      ],
      "text/plain": [
       "       Predictions       y_test    Residual  Difference%\n",
       "count    78.000000    78.000000   78.000000    78.000000\n",
       "mean   1124.182341  1082.756410  -41.425931    90.065387\n",
       "std     352.842891   416.514392  239.539456   455.431626\n",
       "min     484.362461    16.000000 -604.208895     1.026545\n",
       "25%     819.142948   813.250000 -196.292769     6.563760\n",
       "50%    1186.446666  1220.500000  -21.443196    14.936420\n",
       "75%    1338.441518  1416.250000  148.115910    26.145516\n",
       "max    1828.337402  1780.000000  516.026566  3776.305591"
      ]
     },
     "execution_count": 37,
     "metadata": {},
     "output_type": "execute_result"
    }
   ],
   "source": [
    "df_pf.describe()"
   ]
  },
  {
   "cell_type": "code",
   "execution_count": 38,
   "id": "dee05311",
   "metadata": {},
   "outputs": [
    {
     "data": {
      "text/html": [
       "<div>\n",
       "<style scoped>\n",
       "    .dataframe tbody tr th:only-of-type {\n",
       "        vertical-align: middle;\n",
       "    }\n",
       "\n",
       "    .dataframe tbody tr th {\n",
       "        vertical-align: top;\n",
       "    }\n",
       "\n",
       "    .dataframe thead th {\n",
       "        text-align: right;\n",
       "    }\n",
       "</style>\n",
       "<table border=\"1\" class=\"dataframe\">\n",
       "  <thead>\n",
       "    <tr style=\"text-align: right;\">\n",
       "      <th></th>\n",
       "      <th>Predictions</th>\n",
       "      <th>y_test</th>\n",
       "      <th>Residual</th>\n",
       "      <th>Difference%</th>\n",
       "    </tr>\n",
       "  </thead>\n",
       "  <tbody>\n",
       "    <tr>\n",
       "      <th>49</th>\n",
       "      <td>1277.985789</td>\n",
       "      <td>1265.0</td>\n",
       "      <td>-12.985789</td>\n",
       "      <td>1.026545</td>\n",
       "    </tr>\n",
       "    <tr>\n",
       "      <th>25</th>\n",
       "      <td>1450.243532</td>\n",
       "      <td>1435.0</td>\n",
       "      <td>-15.243532</td>\n",
       "      <td>1.062267</td>\n",
       "    </tr>\n",
       "    <tr>\n",
       "      <th>28</th>\n",
       "      <td>1415.804279</td>\n",
       "      <td>1399.0</td>\n",
       "      <td>-16.804279</td>\n",
       "      <td>1.201164</td>\n",
       "    </tr>\n",
       "    <tr>\n",
       "      <th>76</th>\n",
       "      <td>1580.682319</td>\n",
       "      <td>1559.0</td>\n",
       "      <td>-21.682319</td>\n",
       "      <td>1.390784</td>\n",
       "    </tr>\n",
       "    <tr>\n",
       "      <th>31</th>\n",
       "      <td>951.318857</td>\n",
       "      <td>938.0</td>\n",
       "      <td>-13.318857</td>\n",
       "      <td>1.419921</td>\n",
       "    </tr>\n",
       "    <tr>\n",
       "      <th>...</th>\n",
       "      <td>...</td>\n",
       "      <td>...</td>\n",
       "      <td>...</td>\n",
       "      <td>...</td>\n",
       "    </tr>\n",
       "    <tr>\n",
       "      <th>32</th>\n",
       "      <td>626.438645</td>\n",
       "      <td>274.0</td>\n",
       "      <td>-352.438645</td>\n",
       "      <td>128.627243</td>\n",
       "    </tr>\n",
       "    <tr>\n",
       "      <th>13</th>\n",
       "      <td>662.580864</td>\n",
       "      <td>286.0</td>\n",
       "      <td>-376.580864</td>\n",
       "      <td>131.671631</td>\n",
       "    </tr>\n",
       "    <tr>\n",
       "      <th>30</th>\n",
       "      <td>484.362461</td>\n",
       "      <td>185.0</td>\n",
       "      <td>-299.362461</td>\n",
       "      <td>161.817547</td>\n",
       "    </tr>\n",
       "    <tr>\n",
       "      <th>51</th>\n",
       "      <td>590.291207</td>\n",
       "      <td>37.0</td>\n",
       "      <td>-553.291207</td>\n",
       "      <td>1495.381641</td>\n",
       "    </tr>\n",
       "    <tr>\n",
       "      <th>11</th>\n",
       "      <td>620.208895</td>\n",
       "      <td>16.0</td>\n",
       "      <td>-604.208895</td>\n",
       "      <td>3776.305591</td>\n",
       "    </tr>\n",
       "  </tbody>\n",
       "</table>\n",
       "<p>78 rows × 4 columns</p>\n",
       "</div>"
      ],
      "text/plain": [
       "    Predictions  y_test    Residual  Difference%\n",
       "49  1277.985789  1265.0  -12.985789     1.026545\n",
       "25  1450.243532  1435.0  -15.243532     1.062267\n",
       "28  1415.804279  1399.0  -16.804279     1.201164\n",
       "76  1580.682319  1559.0  -21.682319     1.390784\n",
       "31   951.318857   938.0  -13.318857     1.419921\n",
       "..          ...     ...         ...          ...\n",
       "32   626.438645   274.0 -352.438645   128.627243\n",
       "13   662.580864   286.0 -376.580864   131.671631\n",
       "30   484.362461   185.0 -299.362461   161.817547\n",
       "51   590.291207    37.0 -553.291207  1495.381641\n",
       "11   620.208895    16.0 -604.208895  3776.305591\n",
       "\n",
       "[78 rows x 4 columns]"
      ]
     },
     "execution_count": 38,
     "metadata": {},
     "output_type": "execute_result"
    }
   ],
   "source": [
    "df_pf.sort_values(by=[\"Difference%\"])"
   ]
  },
  {
   "cell_type": "markdown",
   "id": "c6cb8dca",
   "metadata": {},
   "source": [
    "The lower values of units are not very well predicted by the linear model, could be by an underlying factor that is not reflected in the provided data."
   ]
  }
 ],
 "metadata": {
  "kernelspec": {
   "display_name": "DS-2022_Udemy",
   "language": "python",
   "name": "ds-2022_udemy"
  },
  "language_info": {
   "codemirror_mode": {
    "name": "ipython",
    "version": 3
   },
   "file_extension": ".py",
   "mimetype": "text/x-python",
   "name": "python",
   "nbconvert_exporter": "python",
   "pygments_lexer": "ipython3",
   "version": "3.6.7"
  }
 },
 "nbformat": 4,
 "nbformat_minor": 5
}
