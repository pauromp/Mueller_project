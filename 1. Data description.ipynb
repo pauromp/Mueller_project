{
 "cells": [
  {
   "cell_type": "markdown",
   "id": "bdba5674",
   "metadata": {},
   "source": [
    "# Muller price-unit prediction"
   ]
  },
  {
   "cell_type": "code",
   "execution_count": 1,
   "id": "c2568faf",
   "metadata": {},
   "outputs": [],
   "source": [
    "# data wrangling\n",
    "import numpy as np\n",
    "import pandas as pd\n",
    "\n",
    "# visualization\n",
    "import matplotlib.pyplot as plt\n",
    "import seaborn as sns"
   ]
  },
  {
   "cell_type": "code",
   "execution_count": 2,
   "id": "6699cb68",
   "metadata": {},
   "outputs": [],
   "source": [
    "# Load product and sales data into dataframes\n",
    "df_product = pd.read_csv(\"data/product.csv\")\n",
    "df_sales = pd.read_csv(\"data/sales.csv\")"
   ]
  },
  {
   "cell_type": "code",
   "execution_count": 3,
   "id": "54b3ef39",
   "metadata": {},
   "outputs": [
    {
     "name": "stdout",
     "output_type": "stream",
     "text": [
      "<class 'pandas.core.frame.DataFrame'>\n",
      "RangeIndex: 27 entries, 0 to 26\n",
      "Data columns (total 6 columns):\n",
      " #   Column                Non-Null Count  Dtype \n",
      "---  ------                --------------  ----- \n",
      " 0   Unnamed: 0            27 non-null     int64 \n",
      " 1   brand                 27 non-null     object\n",
      " 2   flavour               27 non-null     object\n",
      " 3   volume_per_joghurt_g  27 non-null     int64 \n",
      " 4   packsize              27 non-null     int64 \n",
      " 5   product_id            27 non-null     int64 \n",
      "dtypes: int64(4), object(2)\n",
      "memory usage: 1.4+ KB\n"
     ]
    }
   ],
   "source": [
    "# explore product data\n",
    "df_product.info()"
   ]
  },
  {
   "cell_type": "code",
   "execution_count": 4,
   "id": "413af361",
   "metadata": {},
   "outputs": [
    {
     "data": {
      "text/html": [
       "<div>\n",
       "<style scoped>\n",
       "    .dataframe tbody tr th:only-of-type {\n",
       "        vertical-align: middle;\n",
       "    }\n",
       "\n",
       "    .dataframe tbody tr th {\n",
       "        vertical-align: top;\n",
       "    }\n",
       "\n",
       "    .dataframe thead th {\n",
       "        text-align: right;\n",
       "    }\n",
       "</style>\n",
       "<table border=\"1\" class=\"dataframe\">\n",
       "  <thead>\n",
       "    <tr style=\"text-align: right;\">\n",
       "      <th></th>\n",
       "      <th>Unnamed: 0</th>\n",
       "      <th>brand</th>\n",
       "      <th>flavour</th>\n",
       "      <th>volume_per_joghurt_g</th>\n",
       "      <th>packsize</th>\n",
       "      <th>product_id</th>\n",
       "    </tr>\n",
       "  </thead>\n",
       "  <tbody>\n",
       "    <tr>\n",
       "      <th>count</th>\n",
       "      <td>27.000000</td>\n",
       "      <td>27</td>\n",
       "      <td>27</td>\n",
       "      <td>27.000000</td>\n",
       "      <td>27.000000</td>\n",
       "      <td>27.000000</td>\n",
       "    </tr>\n",
       "    <tr>\n",
       "      <th>unique</th>\n",
       "      <td>NaN</td>\n",
       "      <td>9</td>\n",
       "      <td>5</td>\n",
       "      <td>NaN</td>\n",
       "      <td>NaN</td>\n",
       "      <td>NaN</td>\n",
       "    </tr>\n",
       "    <tr>\n",
       "      <th>top</th>\n",
       "      <td>NaN</td>\n",
       "      <td>Danone</td>\n",
       "      <td>blueberry</td>\n",
       "      <td>NaN</td>\n",
       "      <td>NaN</td>\n",
       "      <td>NaN</td>\n",
       "    </tr>\n",
       "    <tr>\n",
       "      <th>freq</th>\n",
       "      <td>NaN</td>\n",
       "      <td>5</td>\n",
       "      <td>7</td>\n",
       "      <td>NaN</td>\n",
       "      <td>NaN</td>\n",
       "      <td>NaN</td>\n",
       "    </tr>\n",
       "    <tr>\n",
       "      <th>mean</th>\n",
       "      <td>13.000000</td>\n",
       "      <td>NaN</td>\n",
       "      <td>NaN</td>\n",
       "      <td>625.925926</td>\n",
       "      <td>4.703704</td>\n",
       "      <td>13.000000</td>\n",
       "    </tr>\n",
       "    <tr>\n",
       "      <th>std</th>\n",
       "      <td>7.937254</td>\n",
       "      <td>NaN</td>\n",
       "      <td>NaN</td>\n",
       "      <td>342.886607</td>\n",
       "      <td>2.232880</td>\n",
       "      <td>7.937254</td>\n",
       "    </tr>\n",
       "    <tr>\n",
       "      <th>min</th>\n",
       "      <td>0.000000</td>\n",
       "      <td>NaN</td>\n",
       "      <td>NaN</td>\n",
       "      <td>150.000000</td>\n",
       "      <td>1.000000</td>\n",
       "      <td>0.000000</td>\n",
       "    </tr>\n",
       "    <tr>\n",
       "      <th>25%</th>\n",
       "      <td>6.500000</td>\n",
       "      <td>NaN</td>\n",
       "      <td>NaN</td>\n",
       "      <td>500.000000</td>\n",
       "      <td>3.500000</td>\n",
       "      <td>6.500000</td>\n",
       "    </tr>\n",
       "    <tr>\n",
       "      <th>50%</th>\n",
       "      <td>13.000000</td>\n",
       "      <td>NaN</td>\n",
       "      <td>NaN</td>\n",
       "      <td>500.000000</td>\n",
       "      <td>6.000000</td>\n",
       "      <td>13.000000</td>\n",
       "    </tr>\n",
       "    <tr>\n",
       "      <th>75%</th>\n",
       "      <td>19.500000</td>\n",
       "      <td>NaN</td>\n",
       "      <td>NaN</td>\n",
       "      <td>1000.000000</td>\n",
       "      <td>6.000000</td>\n",
       "      <td>19.500000</td>\n",
       "    </tr>\n",
       "    <tr>\n",
       "      <th>max</th>\n",
       "      <td>26.000000</td>\n",
       "      <td>NaN</td>\n",
       "      <td>NaN</td>\n",
       "      <td>1000.000000</td>\n",
       "      <td>6.000000</td>\n",
       "      <td>26.000000</td>\n",
       "    </tr>\n",
       "  </tbody>\n",
       "</table>\n",
       "</div>"
      ],
      "text/plain": [
       "        Unnamed: 0   brand    flavour  volume_per_joghurt_g   packsize  \\\n",
       "count    27.000000      27         27             27.000000  27.000000   \n",
       "unique         NaN       9          5                   NaN        NaN   \n",
       "top            NaN  Danone  blueberry                   NaN        NaN   \n",
       "freq           NaN       5          7                   NaN        NaN   \n",
       "mean     13.000000     NaN        NaN            625.925926   4.703704   \n",
       "std       7.937254     NaN        NaN            342.886607   2.232880   \n",
       "min       0.000000     NaN        NaN            150.000000   1.000000   \n",
       "25%       6.500000     NaN        NaN            500.000000   3.500000   \n",
       "50%      13.000000     NaN        NaN            500.000000   6.000000   \n",
       "75%      19.500000     NaN        NaN           1000.000000   6.000000   \n",
       "max      26.000000     NaN        NaN           1000.000000   6.000000   \n",
       "\n",
       "        product_id  \n",
       "count    27.000000  \n",
       "unique         NaN  \n",
       "top            NaN  \n",
       "freq           NaN  \n",
       "mean     13.000000  \n",
       "std       7.937254  \n",
       "min       0.000000  \n",
       "25%       6.500000  \n",
       "50%      13.000000  \n",
       "75%      19.500000  \n",
       "max      26.000000  "
      ]
     },
     "execution_count": 4,
     "metadata": {},
     "output_type": "execute_result"
    }
   ],
   "source": [
    "df_product.describe(include=\"all\")"
   ]
  },
  {
   "cell_type": "code",
   "execution_count": 5,
   "id": "c734c3a3",
   "metadata": {},
   "outputs": [
    {
     "data": {
      "text/html": [
       "<div>\n",
       "<style scoped>\n",
       "    .dataframe tbody tr th:only-of-type {\n",
       "        vertical-align: middle;\n",
       "    }\n",
       "\n",
       "    .dataframe tbody tr th {\n",
       "        vertical-align: top;\n",
       "    }\n",
       "\n",
       "    .dataframe thead th {\n",
       "        text-align: right;\n",
       "    }\n",
       "</style>\n",
       "<table border=\"1\" class=\"dataframe\">\n",
       "  <thead>\n",
       "    <tr style=\"text-align: right;\">\n",
       "      <th></th>\n",
       "      <th>Unnamed: 0</th>\n",
       "      <th>brand</th>\n",
       "      <th>flavour</th>\n",
       "      <th>volume_per_joghurt_g</th>\n",
       "      <th>packsize</th>\n",
       "      <th>product_id</th>\n",
       "    </tr>\n",
       "  </thead>\n",
       "  <tbody>\n",
       "    <tr>\n",
       "      <th>0</th>\n",
       "      <td>0</td>\n",
       "      <td>Mueller</td>\n",
       "      <td>blueberry</td>\n",
       "      <td>150</td>\n",
       "      <td>6</td>\n",
       "      <td>0</td>\n",
       "    </tr>\n",
       "    <tr>\n",
       "      <th>1</th>\n",
       "      <td>1</td>\n",
       "      <td>Oikos</td>\n",
       "      <td>chocolate</td>\n",
       "      <td>1000</td>\n",
       "      <td>1</td>\n",
       "      <td>1</td>\n",
       "    </tr>\n",
       "    <tr>\n",
       "      <th>2</th>\n",
       "      <td>2</td>\n",
       "      <td>Alnatura</td>\n",
       "      <td>strawberry</td>\n",
       "      <td>1000</td>\n",
       "      <td>1</td>\n",
       "      <td>2</td>\n",
       "    </tr>\n",
       "    <tr>\n",
       "      <th>3</th>\n",
       "      <td>3</td>\n",
       "      <td>Mueller</td>\n",
       "      <td>straciatella</td>\n",
       "      <td>500</td>\n",
       "      <td>6</td>\n",
       "      <td>3</td>\n",
       "    </tr>\n",
       "    <tr>\n",
       "      <th>4</th>\n",
       "      <td>4</td>\n",
       "      <td>Danone</td>\n",
       "      <td>straciatella</td>\n",
       "      <td>150</td>\n",
       "      <td>6</td>\n",
       "      <td>4</td>\n",
       "    </tr>\n",
       "  </tbody>\n",
       "</table>\n",
       "</div>"
      ],
      "text/plain": [
       "   Unnamed: 0     brand       flavour  volume_per_joghurt_g  packsize  \\\n",
       "0           0   Mueller     blueberry                   150         6   \n",
       "1           1     Oikos     chocolate                  1000         1   \n",
       "2           2  Alnatura    strawberry                  1000         1   \n",
       "3           3   Mueller  straciatella                   500         6   \n",
       "4           4    Danone  straciatella                   150         6   \n",
       "\n",
       "   product_id  \n",
       "0           0  \n",
       "1           1  \n",
       "2           2  \n",
       "3           3  \n",
       "4           4  "
      ]
     },
     "execution_count": 5,
     "metadata": {},
     "output_type": "execute_result"
    }
   ],
   "source": [
    "df_product.head()"
   ]
  },
  {
   "cell_type": "markdown",
   "id": "1bd721db",
   "metadata": {},
   "source": [
    "### Product data contains the following columns:"
   ]
  },
  {
   "cell_type": "markdown",
   "id": "ee2f7675",
   "metadata": {},
   "source": [
    "brand: Categorical variable with 9 unique values.\n",
    "\n",
    "flavour: Categorical variable with 5 unique values.\n",
    "\n",
    "volume_per_joghurt_g: Numerical variable with 3 possible values 150, 500 and 1000 g.\n",
    "\n",
    "packsize: Numerical variable with 2 possible values 1 and 6.\n",
    "\n",
    "Unnamed: 0/product_id: Numerical values with the same range as the index, 27 different products in total."
   ]
  },
  {
   "cell_type": "code",
   "execution_count": 6,
   "id": "d16528af",
   "metadata": {},
   "outputs": [
    {
     "data": {
      "text/plain": [
       "array(['Mueller', 'Oikos', 'Alnatura', 'Danone', 'Rewe', 'Activia', 'Ja!',\n",
       "       'Ecke-Mit-Was-Drin', 'Actimel'], dtype=object)"
      ]
     },
     "execution_count": 6,
     "metadata": {},
     "output_type": "execute_result"
    }
   ],
   "source": [
    "# Unique brands\n",
    "df_product.brand.unique()"
   ]
  },
  {
   "cell_type": "code",
   "execution_count": 7,
   "id": "c227129b",
   "metadata": {},
   "outputs": [
    {
     "data": {
      "text/plain": [
       "array(['blueberry', 'chocolate', 'strawberry', 'straciatella',\n",
       "       'raspberry'], dtype=object)"
      ]
     },
     "execution_count": 7,
     "metadata": {},
     "output_type": "execute_result"
    }
   ],
   "source": [
    "# Unique flavours\n",
    "df_product.flavour.unique()"
   ]
  },
  {
   "cell_type": "code",
   "execution_count": 8,
   "id": "ffb472e1",
   "metadata": {},
   "outputs": [
    {
     "name": "stdout",
     "output_type": "stream",
     "text": [
      "<class 'pandas.core.frame.DataFrame'>\n",
      "RangeIndex: 260 entries, 0 to 259\n",
      "Data columns (total 5 columns):\n",
      " #   Column      Non-Null Count  Dtype  \n",
      "---  ------      --------------  -----  \n",
      " 0   Unnamed: 0  260 non-null    int64  \n",
      " 1   date        260 non-null    object \n",
      " 2   product_id  260 non-null    int64  \n",
      " 3   price       260 non-null    float64\n",
      " 4   units       260 non-null    float64\n",
      "dtypes: float64(2), int64(2), object(1)\n",
      "memory usage: 10.3+ KB\n"
     ]
    }
   ],
   "source": [
    "# explor sales data\n",
    "df_sales.info()"
   ]
  },
  {
   "cell_type": "code",
   "execution_count": 9,
   "id": "9d046dfb",
   "metadata": {},
   "outputs": [
    {
     "data": {
      "text/html": [
       "<div>\n",
       "<style scoped>\n",
       "    .dataframe tbody tr th:only-of-type {\n",
       "        vertical-align: middle;\n",
       "    }\n",
       "\n",
       "    .dataframe tbody tr th {\n",
       "        vertical-align: top;\n",
       "    }\n",
       "\n",
       "    .dataframe thead th {\n",
       "        text-align: right;\n",
       "    }\n",
       "</style>\n",
       "<table border=\"1\" class=\"dataframe\">\n",
       "  <thead>\n",
       "    <tr style=\"text-align: right;\">\n",
       "      <th></th>\n",
       "      <th>Unnamed: 0</th>\n",
       "      <th>date</th>\n",
       "      <th>product_id</th>\n",
       "      <th>price</th>\n",
       "      <th>units</th>\n",
       "    </tr>\n",
       "  </thead>\n",
       "  <tbody>\n",
       "    <tr>\n",
       "      <th>count</th>\n",
       "      <td>260.000000</td>\n",
       "      <td>260</td>\n",
       "      <td>260.000000</td>\n",
       "      <td>260.000000</td>\n",
       "      <td>260.000000</td>\n",
       "    </tr>\n",
       "    <tr>\n",
       "      <th>unique</th>\n",
       "      <td>NaN</td>\n",
       "      <td>10</td>\n",
       "      <td>NaN</td>\n",
       "      <td>NaN</td>\n",
       "      <td>NaN</td>\n",
       "    </tr>\n",
       "    <tr>\n",
       "      <th>top</th>\n",
       "      <td>NaN</td>\n",
       "      <td>2020-01-07</td>\n",
       "      <td>NaN</td>\n",
       "      <td>NaN</td>\n",
       "      <td>NaN</td>\n",
       "    </tr>\n",
       "    <tr>\n",
       "      <th>freq</th>\n",
       "      <td>NaN</td>\n",
       "      <td>27</td>\n",
       "      <td>NaN</td>\n",
       "      <td>NaN</td>\n",
       "      <td>NaN</td>\n",
       "    </tr>\n",
       "    <tr>\n",
       "      <th>mean</th>\n",
       "      <td>133.611538</td>\n",
       "      <td>NaN</td>\n",
       "      <td>12.911538</td>\n",
       "      <td>5.288538</td>\n",
       "      <td>1177.496154</td>\n",
       "    </tr>\n",
       "    <tr>\n",
       "      <th>std</th>\n",
       "      <td>78.528842</td>\n",
       "      <td>NaN</td>\n",
       "      <td>7.846738</td>\n",
       "      <td>1.881547</td>\n",
       "      <td>401.771103</td>\n",
       "    </tr>\n",
       "    <tr>\n",
       "      <th>min</th>\n",
       "      <td>0.000000</td>\n",
       "      <td>NaN</td>\n",
       "      <td>0.000000</td>\n",
       "      <td>1.460000</td>\n",
       "      <td>16.000000</td>\n",
       "    </tr>\n",
       "    <tr>\n",
       "      <th>25%</th>\n",
       "      <td>64.750000</td>\n",
       "      <td>NaN</td>\n",
       "      <td>6.000000</td>\n",
       "      <td>3.965000</td>\n",
       "      <td>944.000000</td>\n",
       "    </tr>\n",
       "    <tr>\n",
       "      <th>50%</th>\n",
       "      <td>132.500000</td>\n",
       "      <td>NaN</td>\n",
       "      <td>13.000000</td>\n",
       "      <td>5.140000</td>\n",
       "      <td>1275.500000</td>\n",
       "    </tr>\n",
       "    <tr>\n",
       "      <th>75%</th>\n",
       "      <td>201.250000</td>\n",
       "      <td>NaN</td>\n",
       "      <td>20.000000</td>\n",
       "      <td>6.785000</td>\n",
       "      <td>1453.250000</td>\n",
       "    </tr>\n",
       "    <tr>\n",
       "      <th>max</th>\n",
       "      <td>269.000000</td>\n",
       "      <td>NaN</td>\n",
       "      <td>26.000000</td>\n",
       "      <td>9.420000</td>\n",
       "      <td>2170.000000</td>\n",
       "    </tr>\n",
       "  </tbody>\n",
       "</table>\n",
       "</div>"
      ],
      "text/plain": [
       "        Unnamed: 0        date  product_id       price        units\n",
       "count   260.000000         260  260.000000  260.000000   260.000000\n",
       "unique         NaN          10         NaN         NaN          NaN\n",
       "top            NaN  2020-01-07         NaN         NaN          NaN\n",
       "freq           NaN          27         NaN         NaN          NaN\n",
       "mean    133.611538         NaN   12.911538    5.288538  1177.496154\n",
       "std      78.528842         NaN    7.846738    1.881547   401.771103\n",
       "min       0.000000         NaN    0.000000    1.460000    16.000000\n",
       "25%      64.750000         NaN    6.000000    3.965000   944.000000\n",
       "50%     132.500000         NaN   13.000000    5.140000  1275.500000\n",
       "75%     201.250000         NaN   20.000000    6.785000  1453.250000\n",
       "max     269.000000         NaN   26.000000    9.420000  2170.000000"
      ]
     },
     "execution_count": 9,
     "metadata": {},
     "output_type": "execute_result"
    }
   ],
   "source": [
    "df_sales.describe(include=\"all\")"
   ]
  },
  {
   "cell_type": "code",
   "execution_count": 10,
   "id": "2f6d2cba",
   "metadata": {},
   "outputs": [
    {
     "data": {
      "text/html": [
       "<div>\n",
       "<style scoped>\n",
       "    .dataframe tbody tr th:only-of-type {\n",
       "        vertical-align: middle;\n",
       "    }\n",
       "\n",
       "    .dataframe tbody tr th {\n",
       "        vertical-align: top;\n",
       "    }\n",
       "\n",
       "    .dataframe thead th {\n",
       "        text-align: right;\n",
       "    }\n",
       "</style>\n",
       "<table border=\"1\" class=\"dataframe\">\n",
       "  <thead>\n",
       "    <tr style=\"text-align: right;\">\n",
       "      <th></th>\n",
       "      <th>Unnamed: 0</th>\n",
       "      <th>date</th>\n",
       "      <th>product_id</th>\n",
       "      <th>price</th>\n",
       "      <th>units</th>\n",
       "    </tr>\n",
       "  </thead>\n",
       "  <tbody>\n",
       "    <tr>\n",
       "      <th>0</th>\n",
       "      <td>0</td>\n",
       "      <td>2020-01-01</td>\n",
       "      <td>0</td>\n",
       "      <td>4.65</td>\n",
       "      <td>1126.0</td>\n",
       "    </tr>\n",
       "    <tr>\n",
       "      <th>1</th>\n",
       "      <td>1</td>\n",
       "      <td>2020-01-02</td>\n",
       "      <td>0</td>\n",
       "      <td>4.76</td>\n",
       "      <td>1205.0</td>\n",
       "    </tr>\n",
       "    <tr>\n",
       "      <th>2</th>\n",
       "      <td>2</td>\n",
       "      <td>2020-01-03</td>\n",
       "      <td>0</td>\n",
       "      <td>5.22</td>\n",
       "      <td>1007.0</td>\n",
       "    </tr>\n",
       "    <tr>\n",
       "      <th>3</th>\n",
       "      <td>3</td>\n",
       "      <td>2020-01-04</td>\n",
       "      <td>0</td>\n",
       "      <td>5.45</td>\n",
       "      <td>1282.0</td>\n",
       "    </tr>\n",
       "    <tr>\n",
       "      <th>4</th>\n",
       "      <td>4</td>\n",
       "      <td>2020-01-05</td>\n",
       "      <td>0</td>\n",
       "      <td>3.33</td>\n",
       "      <td>1037.0</td>\n",
       "    </tr>\n",
       "  </tbody>\n",
       "</table>\n",
       "</div>"
      ],
      "text/plain": [
       "   Unnamed: 0        date  product_id  price   units\n",
       "0           0  2020-01-01           0   4.65  1126.0\n",
       "1           1  2020-01-02           0   4.76  1205.0\n",
       "2           2  2020-01-03           0   5.22  1007.0\n",
       "3           3  2020-01-04           0   5.45  1282.0\n",
       "4           4  2020-01-05           0   3.33  1037.0"
      ]
     },
     "execution_count": 10,
     "metadata": {},
     "output_type": "execute_result"
    }
   ],
   "source": [
    "df_sales.head()"
   ]
  },
  {
   "cell_type": "markdown",
   "id": "85b9649c",
   "metadata": {},
   "source": [
    "### Sales data contains the following columns:"
   ]
  },
  {
   "cell_type": "markdown",
   "id": "2842a230",
   "metadata": {},
   "source": [
    "date: datetime type data with 10 different dates.\n",
    "\n",
    "price: Numerical variable with values ranging bewtween [1.46, 9.42].\n",
    "\n",
    "units: Numerical variable with values ranging between [16,2170].\n",
    "\n",
    "Unnamed: 0/product_id: Numerical values with 27 different products in total. This variable relates sales with products."
   ]
  },
  {
   "cell_type": "code",
   "execution_count": 11,
   "id": "040337e0",
   "metadata": {},
   "outputs": [],
   "source": [
    "# Merge both df using inner join on product_id\n",
    "df = pd.merge(left = df_sales, right = df_product, how = 'inner', on=\"product_id\")"
   ]
  },
  {
   "cell_type": "code",
   "execution_count": 12,
   "id": "b2ad6828",
   "metadata": {},
   "outputs": [
    {
     "data": {
      "text/html": [
       "<div>\n",
       "<style scoped>\n",
       "    .dataframe tbody tr th:only-of-type {\n",
       "        vertical-align: middle;\n",
       "    }\n",
       "\n",
       "    .dataframe tbody tr th {\n",
       "        vertical-align: top;\n",
       "    }\n",
       "\n",
       "    .dataframe thead th {\n",
       "        text-align: right;\n",
       "    }\n",
       "</style>\n",
       "<table border=\"1\" class=\"dataframe\">\n",
       "  <thead>\n",
       "    <tr style=\"text-align: right;\">\n",
       "      <th></th>\n",
       "      <th>Unnamed: 0_x</th>\n",
       "      <th>date</th>\n",
       "      <th>product_id</th>\n",
       "      <th>price</th>\n",
       "      <th>units</th>\n",
       "      <th>Unnamed: 0_y</th>\n",
       "      <th>brand</th>\n",
       "      <th>flavour</th>\n",
       "      <th>volume_per_joghurt_g</th>\n",
       "      <th>packsize</th>\n",
       "    </tr>\n",
       "  </thead>\n",
       "  <tbody>\n",
       "    <tr>\n",
       "      <th>0</th>\n",
       "      <td>0</td>\n",
       "      <td>2020-01-01</td>\n",
       "      <td>0</td>\n",
       "      <td>4.65</td>\n",
       "      <td>1126.0</td>\n",
       "      <td>0</td>\n",
       "      <td>Mueller</td>\n",
       "      <td>blueberry</td>\n",
       "      <td>150</td>\n",
       "      <td>6</td>\n",
       "    </tr>\n",
       "    <tr>\n",
       "      <th>1</th>\n",
       "      <td>1</td>\n",
       "      <td>2020-01-02</td>\n",
       "      <td>0</td>\n",
       "      <td>4.76</td>\n",
       "      <td>1205.0</td>\n",
       "      <td>0</td>\n",
       "      <td>Mueller</td>\n",
       "      <td>blueberry</td>\n",
       "      <td>150</td>\n",
       "      <td>6</td>\n",
       "    </tr>\n",
       "    <tr>\n",
       "      <th>2</th>\n",
       "      <td>2</td>\n",
       "      <td>2020-01-03</td>\n",
       "      <td>0</td>\n",
       "      <td>5.22</td>\n",
       "      <td>1007.0</td>\n",
       "      <td>0</td>\n",
       "      <td>Mueller</td>\n",
       "      <td>blueberry</td>\n",
       "      <td>150</td>\n",
       "      <td>6</td>\n",
       "    </tr>\n",
       "    <tr>\n",
       "      <th>3</th>\n",
       "      <td>3</td>\n",
       "      <td>2020-01-04</td>\n",
       "      <td>0</td>\n",
       "      <td>5.45</td>\n",
       "      <td>1282.0</td>\n",
       "      <td>0</td>\n",
       "      <td>Mueller</td>\n",
       "      <td>blueberry</td>\n",
       "      <td>150</td>\n",
       "      <td>6</td>\n",
       "    </tr>\n",
       "    <tr>\n",
       "      <th>4</th>\n",
       "      <td>4</td>\n",
       "      <td>2020-01-05</td>\n",
       "      <td>0</td>\n",
       "      <td>3.33</td>\n",
       "      <td>1037.0</td>\n",
       "      <td>0</td>\n",
       "      <td>Mueller</td>\n",
       "      <td>blueberry</td>\n",
       "      <td>150</td>\n",
       "      <td>6</td>\n",
       "    </tr>\n",
       "  </tbody>\n",
       "</table>\n",
       "</div>"
      ],
      "text/plain": [
       "   Unnamed: 0_x        date  product_id  price   units  Unnamed: 0_y    brand  \\\n",
       "0             0  2020-01-01           0   4.65  1126.0             0  Mueller   \n",
       "1             1  2020-01-02           0   4.76  1205.0             0  Mueller   \n",
       "2             2  2020-01-03           0   5.22  1007.0             0  Mueller   \n",
       "3             3  2020-01-04           0   5.45  1282.0             0  Mueller   \n",
       "4             4  2020-01-05           0   3.33  1037.0             0  Mueller   \n",
       "\n",
       "     flavour  volume_per_joghurt_g  packsize  \n",
       "0  blueberry                   150         6  \n",
       "1  blueberry                   150         6  \n",
       "2  blueberry                   150         6  \n",
       "3  blueberry                   150         6  \n",
       "4  blueberry                   150         6  "
      ]
     },
     "execution_count": 12,
     "metadata": {},
     "output_type": "execute_result"
    }
   ],
   "source": [
    "df.head()"
   ]
  },
  {
   "cell_type": "code",
   "execution_count": 13,
   "id": "962fac97",
   "metadata": {},
   "outputs": [],
   "source": [
    "# Drop redundant columns \"Unnamed: 0_x\" and \"Unnamed: 0_y\"\n",
    "df.drop(['Unnamed: 0_x', 'Unnamed: 0_y'], axis=1, inplace = True)"
   ]
  },
  {
   "cell_type": "code",
   "execution_count": 14,
   "id": "c7ebee45",
   "metadata": {},
   "outputs": [
    {
     "data": {
      "text/plain": [
       "False"
      ]
     },
     "execution_count": 14,
     "metadata": {},
     "output_type": "execute_result"
    }
   ],
   "source": [
    "# check for missing values\n",
    "df.isnull().values.any()"
   ]
  },
  {
   "cell_type": "code",
   "execution_count": 15,
   "id": "d2f826a3",
   "metadata": {},
   "outputs": [
    {
     "data": {
      "text/plain": [
       "date                    0\n",
       "product_id              0\n",
       "price                   0\n",
       "units                   0\n",
       "brand                   0\n",
       "flavour                 0\n",
       "volume_per_joghurt_g    0\n",
       "packsize                0\n",
       "dtype: int64"
      ]
     },
     "execution_count": 15,
     "metadata": {},
     "output_type": "execute_result"
    }
   ],
   "source": [
    "# check for null values\n",
    "df.isnull().sum()"
   ]
  },
  {
   "cell_type": "markdown",
   "id": "7c488d1a",
   "metadata": {},
   "source": [
    "The merged data frame doesn't show missing or null values."
   ]
  },
  {
   "cell_type": "code",
   "execution_count": 16,
   "id": "8e93c7d1",
   "metadata": {},
   "outputs": [
    {
     "data": {
      "text/html": [
       "<div>\n",
       "<style scoped>\n",
       "    .dataframe tbody tr th:only-of-type {\n",
       "        vertical-align: middle;\n",
       "    }\n",
       "\n",
       "    .dataframe tbody tr th {\n",
       "        vertical-align: top;\n",
       "    }\n",
       "\n",
       "    .dataframe thead th {\n",
       "        text-align: right;\n",
       "    }\n",
       "</style>\n",
       "<table border=\"1\" class=\"dataframe\">\n",
       "  <thead>\n",
       "    <tr style=\"text-align: right;\">\n",
       "      <th></th>\n",
       "      <th>date</th>\n",
       "      <th>product_id</th>\n",
       "      <th>price</th>\n",
       "      <th>units</th>\n",
       "      <th>brand</th>\n",
       "      <th>flavour</th>\n",
       "      <th>volume_per_joghurt_g</th>\n",
       "      <th>packsize</th>\n",
       "    </tr>\n",
       "  </thead>\n",
       "  <tbody>\n",
       "    <tr>\n",
       "      <th>0</th>\n",
       "      <td>2020-01-01</td>\n",
       "      <td>0</td>\n",
       "      <td>4.65</td>\n",
       "      <td>1126.0</td>\n",
       "      <td>Mueller</td>\n",
       "      <td>blueberry</td>\n",
       "      <td>150</td>\n",
       "      <td>6</td>\n",
       "    </tr>\n",
       "    <tr>\n",
       "      <th>1</th>\n",
       "      <td>2020-01-02</td>\n",
       "      <td>0</td>\n",
       "      <td>4.76</td>\n",
       "      <td>1205.0</td>\n",
       "      <td>Mueller</td>\n",
       "      <td>blueberry</td>\n",
       "      <td>150</td>\n",
       "      <td>6</td>\n",
       "    </tr>\n",
       "    <tr>\n",
       "      <th>2</th>\n",
       "      <td>2020-01-03</td>\n",
       "      <td>0</td>\n",
       "      <td>5.22</td>\n",
       "      <td>1007.0</td>\n",
       "      <td>Mueller</td>\n",
       "      <td>blueberry</td>\n",
       "      <td>150</td>\n",
       "      <td>6</td>\n",
       "    </tr>\n",
       "    <tr>\n",
       "      <th>3</th>\n",
       "      <td>2020-01-04</td>\n",
       "      <td>0</td>\n",
       "      <td>5.45</td>\n",
       "      <td>1282.0</td>\n",
       "      <td>Mueller</td>\n",
       "      <td>blueberry</td>\n",
       "      <td>150</td>\n",
       "      <td>6</td>\n",
       "    </tr>\n",
       "    <tr>\n",
       "      <th>4</th>\n",
       "      <td>2020-01-05</td>\n",
       "      <td>0</td>\n",
       "      <td>3.33</td>\n",
       "      <td>1037.0</td>\n",
       "      <td>Mueller</td>\n",
       "      <td>blueberry</td>\n",
       "      <td>150</td>\n",
       "      <td>6</td>\n",
       "    </tr>\n",
       "  </tbody>\n",
       "</table>\n",
       "</div>"
      ],
      "text/plain": [
       "         date  product_id  price   units    brand    flavour  \\\n",
       "0  2020-01-01           0   4.65  1126.0  Mueller  blueberry   \n",
       "1  2020-01-02           0   4.76  1205.0  Mueller  blueberry   \n",
       "2  2020-01-03           0   5.22  1007.0  Mueller  blueberry   \n",
       "3  2020-01-04           0   5.45  1282.0  Mueller  blueberry   \n",
       "4  2020-01-05           0   3.33  1037.0  Mueller  blueberry   \n",
       "\n",
       "   volume_per_joghurt_g  packsize  \n",
       "0                   150         6  \n",
       "1                   150         6  \n",
       "2                   150         6  \n",
       "3                   150         6  \n",
       "4                   150         6  "
      ]
     },
     "execution_count": 16,
     "metadata": {},
     "output_type": "execute_result"
    }
   ],
   "source": [
    "df.head()"
   ]
  },
  {
   "cell_type": "code",
   "execution_count": 17,
   "id": "651d07fa",
   "metadata": {},
   "outputs": [],
   "source": [
    "# Export full dataframe to be used in future notebooks\n",
    "df.to_csv(\"price-units-data.csv\",index=False)"
   ]
  },
  {
   "cell_type": "code",
   "execution_count": 18,
   "id": "6f9df038",
   "metadata": {},
   "outputs": [
    {
     "data": {
      "text/html": [
       "<div>\n",
       "<style scoped>\n",
       "    .dataframe tbody tr th:only-of-type {\n",
       "        vertical-align: middle;\n",
       "    }\n",
       "\n",
       "    .dataframe tbody tr th {\n",
       "        vertical-align: top;\n",
       "    }\n",
       "\n",
       "    .dataframe thead th {\n",
       "        text-align: right;\n",
       "    }\n",
       "</style>\n",
       "<table border=\"1\" class=\"dataframe\">\n",
       "  <thead>\n",
       "    <tr style=\"text-align: right;\">\n",
       "      <th></th>\n",
       "      <th>product_id</th>\n",
       "      <th>price</th>\n",
       "      <th>units</th>\n",
       "      <th>volume_per_joghurt_g</th>\n",
       "      <th>packsize</th>\n",
       "    </tr>\n",
       "  </thead>\n",
       "  <tbody>\n",
       "    <tr>\n",
       "      <th>product_id</th>\n",
       "      <td>1.000000</td>\n",
       "      <td>0.108970</td>\n",
       "      <td>-0.201212</td>\n",
       "      <td>0.175471</td>\n",
       "      <td>-0.073287</td>\n",
       "    </tr>\n",
       "    <tr>\n",
       "      <th>price</th>\n",
       "      <td>0.108970</td>\n",
       "      <td>1.000000</td>\n",
       "      <td>-0.704612</td>\n",
       "      <td>0.497232</td>\n",
       "      <td>0.558092</td>\n",
       "    </tr>\n",
       "    <tr>\n",
       "      <th>units</th>\n",
       "      <td>-0.201212</td>\n",
       "      <td>-0.704612</td>\n",
       "      <td>1.000000</td>\n",
       "      <td>-0.489839</td>\n",
       "      <td>-0.356950</td>\n",
       "    </tr>\n",
       "    <tr>\n",
       "      <th>volume_per_joghurt_g</th>\n",
       "      <td>0.175471</td>\n",
       "      <td>0.497232</td>\n",
       "      <td>-0.489839</td>\n",
       "      <td>1.000000</td>\n",
       "      <td>-0.095675</td>\n",
       "    </tr>\n",
       "    <tr>\n",
       "      <th>packsize</th>\n",
       "      <td>-0.073287</td>\n",
       "      <td>0.558092</td>\n",
       "      <td>-0.356950</td>\n",
       "      <td>-0.095675</td>\n",
       "      <td>1.000000</td>\n",
       "    </tr>\n",
       "  </tbody>\n",
       "</table>\n",
       "</div>"
      ],
      "text/plain": [
       "                      product_id     price     units  volume_per_joghurt_g  \\\n",
       "product_id              1.000000  0.108970 -0.201212              0.175471   \n",
       "price                   0.108970  1.000000 -0.704612              0.497232   \n",
       "units                  -0.201212 -0.704612  1.000000             -0.489839   \n",
       "volume_per_joghurt_g    0.175471  0.497232 -0.489839              1.000000   \n",
       "packsize               -0.073287  0.558092 -0.356950             -0.095675   \n",
       "\n",
       "                      packsize  \n",
       "product_id           -0.073287  \n",
       "price                 0.558092  \n",
       "units                -0.356950  \n",
       "volume_per_joghurt_g -0.095675  \n",
       "packsize              1.000000  "
      ]
     },
     "execution_count": 18,
     "metadata": {},
     "output_type": "execute_result"
    }
   ],
   "source": [
    "df.corr()"
   ]
  },
  {
   "cell_type": "markdown",
   "id": "cf4f4a5d",
   "metadata": {},
   "source": [
    "### First plots"
   ]
  },
  {
   "cell_type": "code",
   "execution_count": 19,
   "id": "b45caf06",
   "metadata": {},
   "outputs": [
    {
     "data": {
      "text/plain": [
       "<seaborn.axisgrid.JointGrid at 0x7f6ff3926828>"
      ]
     },
     "execution_count": 19,
     "metadata": {},
     "output_type": "execute_result"
    },
    {
     "data": {
      "image/png": "[encoded data removed]",
      "text/plain": [
       "<Figure size 432x432 with 3 Axes>"
      ]
     },
     "metadata": {
      "needs_background": "light"
     },
     "output_type": "display_data"
    }
   ],
   "source": [
    "# Relation of price to units\n",
    "sns.jointplot(x='price',y='units',data=df, hue=\"brand\", alpha =0.3)"
   ]
  },
  {
   "cell_type": "markdown",
   "id": "7c206705",
   "metadata": {},
   "source": [
    "We can appreciate a negative linear relation between the price and units. The brands that seemed to be spread in most of the range are Danone and Rewe. Oikos and Alnatura remain mostly in the top part of units sold. "
   ]
  },
  {
   "cell_type": "code",
   "execution_count": 20,
   "id": "799294cf",
   "metadata": {},
   "outputs": [
    {
     "data": {
      "text/plain": [
       "<seaborn.axisgrid.JointGrid at 0x7f6fe8692588>"
      ]
     },
     "execution_count": 20,
     "metadata": {},
     "output_type": "execute_result"
    },
    {
     "data": {
      "image/png": "[encoded data removed]",
      "text/plain": [
       "<Figure size 432x432 with 3 Axes>"
      ]
     },
     "metadata": {
      "needs_background": "light"
     },
     "output_type": "display_data"
    }
   ],
   "source": [
    "# Relation of volume to units\n",
    "sns.jointplot(x='volume_per_joghurt_g',y='units',data=df, hue=\"flavour\", alpha =0.7, palette=\"Set2\")"
   ]
  },
  {
   "cell_type": "markdown",
   "id": "8ca70eca",
   "metadata": {},
   "source": [
    "Blueberry and raspberry flavours in 1000g package sell less units than small volumes of straciatella and chocolate. "
   ]
  },
  {
   "cell_type": "markdown",
   "id": "d6a576c7",
   "metadata": {},
   "source": [
    "The parameter \"price\" has the highest correlation to units. A linear model can be use to predict units sold given the change in prices. "
   ]
  },
  {
   "cell_type": "markdown",
   "id": "628ccded",
   "metadata": {},
   "source": [
    " From literature we know the relation between the percentage change in prices over the percentage change in demand (units) is known as price elasticity."
   ]
  },
  {
   "cell_type": "markdown",
   "id": "55c43527",
   "metadata": {},
   "source": [
    "One approach to model the data is to obtain the slope of the linear regression of each product_id. With the slope it is possible to estimate the price elasticity eta = slope * mean(prices)/mean(units). "
   ]
  },
  {
   "cell_type": "markdown",
   "id": "3290717f",
   "metadata": {},
   "source": [
    "Elasticities between -1< eta < 0 are known as innelastic since the demand wont be affected by the price changes. Products with price elasticities below -1 have more effect in the demand by small variatons in prices."
   ]
  },
  {
   "cell_type": "markdown",
   "id": "4f557598",
   "metadata": {},
   "source": [
    "Another approach would be to compare the multilinear regression considering all data attributes against the simple linear regression over all products. We will follow this approach first. "
   ]
  }
 ],
 "metadata": {
  "kernelspec": {
   "display_name": "DS-2022_Udemy",
   "language": "python",
   "name": "ds-2022_udemy"
  },
  "language_info": {
   "codemirror_mode": {
    "name": "ipython",
    "version": 3
   },
   "file_extension": ".py",
   "mimetype": "text/x-python",
   "name": "python",
   "nbconvert_exporter": "python",
   "pygments_lexer": "ipython3",
   "version": "3.6.7"
  }
 },
 "nbformat": 4,
 "nbformat_minor": 5
}
